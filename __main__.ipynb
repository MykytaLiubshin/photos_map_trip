{
 "cells": [
  {
   "cell_type": "code",
   "execution_count": 2,
   "metadata": {},
   "outputs": [],
   "source": [
    "from os import path, walk\n",
    "from image_metadata_extraction import extract_all_metadata, decode_gps_data\n",
    "from config import IMAGES_DIR, CURRENT_DIRECTORY, DEFAULT_DUMP_FILENAME\n",
    "import pandas as pd\n",
    "from matplotlib import pyplot as plt\n",
    "import seaborn as sns\n",
    "import plotly.express as px\n",
    "\n",
    "mapbox_api_key = \"https://api.mapbox.com/styles/v1/enzewon/cl06qvw9p001a14nyw27siigg/tiles/256/{z}/{x}/{y}@2x?access_token=pk.eyJ1IjoiZW56ZXdvbiIsImEiOiJjbDA2cXRlMGIwMDVhM2xxcDd6ZWlvM2RpIn0.F6aDNRNLLzt0F_hm4dnpzw\"\n",
    "\n"
   ]
  },
  {
   "cell_type": "code",
   "execution_count": 3,
   "metadata": {},
   "outputs": [],
   "source": [
    "\n",
    "def get_all_needed_data(directory_path=IMAGES_DIR):\n",
    "    files_in_images = []\n",
    "    for _, _, files in walk(path.join(directory_path)):\n",
    "        files_in_images = files\n",
    "    files_in_images = list(filter(lambda x: \"jpg\" in x, files_in_images))\n",
    "\n",
    "    all_data = pd.DataFrame()\n",
    "    for i in range(len(files_in_images)):\n",
    "        filename = files_in_images[i]\n",
    "        metadata = extract_all_metadata(path.join(directory_path, filename))\n",
    "        gps_data = decode_gps_data(metadata)\n",
    "        if not gps_data:\n",
    "            continue\n",
    "\n",
    "        data = pd.DataFrame(gps_data, index=[filename])\n",
    "        for key in metadata.keys():\n",
    "            if key != \"GPSInfo\":\n",
    "                data[key] = metadata[key]\n",
    "        all_data = pd.concat([all_data, data])\n",
    "\n",
    "    return all_data\n",
    "\n",
    "def load_data(dirpath=CURRENT_DIRECTORY, filename=DEFAULT_DUMP_FILENAME):\n",
    "    return pd.read_excel(path.join(CURRENT_DIRECTORY, filename))\n",
    "\n",
    "def dump_data(all_data, dirpath=CURRENT_DIRECTORY, filename=DEFAULT_DUMP_FILENAME):\n",
    "    all_data.to_excel(path.join(CURRENT_DIRECTORY, filename))\n"
   ]
  },
  {
   "cell_type": "code",
   "execution_count": 4,
   "metadata": {},
   "outputs": [],
   "source": [
    "dump_data(get_all_needed_data())"
   ]
  },
  {
   "cell_type": "code",
   "execution_count": 14,
   "metadata": {},
   "outputs": [
    {
     "name": "stdout",
     "output_type": "stream",
     "text": [
      "ymax = 48.17446797\n",
      "ymin = 48.13511797\n",
      "xmax = 24.90595\n",
      "xmin = 24.886863\n",
      "     latitude  longitude\n",
      "78   1.000000   0.169427\n",
      "105  1.000000   0.169427\n",
      "122  1.000000   0.169427\n",
      "12   1.000000   0.169427\n",
      "37   1.000000   0.169427\n",
      "..        ...        ...\n",
      "98   0.373292   0.017281\n",
      "112  0.357790   0.006861\n",
      "68   0.358298   0.000000\n",
      "57   0.993698   0.165032\n",
      "119  0.993698   0.165032\n",
      "\n",
      "[126 rows x 2 columns]\n"
     ]
    },
    {
     "name": "stderr",
     "output_type": "stream",
     "text": [
      "/tmp/ipykernel_64942/1845563441.py:17: SettingWithCopyWarning:\n",
      "\n",
      "\n",
      "A value is trying to be set on a copy of a slice from a DataFrame.\n",
      "Try using .loc[row_indexer,col_indexer] = value instead\n",
      "\n",
      "See the caveats in the documentation: https://pandas.pydata.org/pandas-docs/stable/user_guide/indexing.html#returning-a-view-versus-a-copy\n",
      "\n",
      "/tmp/ipykernel_64942/1845563441.py:18: SettingWithCopyWarning:\n",
      "\n",
      "\n",
      "A value is trying to be set on a copy of a slice from a DataFrame.\n",
      "Try using .loc[row_indexer,col_indexer] = value instead\n",
      "\n",
      "See the caveats in the documentation: https://pandas.pydata.org/pandas-docs/stable/user_guide/indexing.html#returning-a-view-versus-a-copy\n",
      "\n",
      "/tmp/ipykernel_64942/1845563441.py:22: UserWarning:\n",
      "\n",
      "Matplotlib is currently using module://matplotlib_inline.backend_inline, which is a non-GUI backend, so cannot show the figure.\n",
      "\n"
     ]
    },
    {
     "data": {
      "image/png": "[encoded data removed]",
      "text/plain": [
       "<Figure size 1200x1200 with 1 Axes>"
      ]
     },
     "metadata": {},
     "output_type": "display_data"
    }
   ],
   "source": [
    "\n",
    "all_data = load_data()\n",
    "all_data = all_data.sort_values(by=\"DateTimeOriginal\")\n",
    "y_x = all_data[[\"latitude\", \"longitude\"]]\n",
    "ymax = max(y_x[\"latitude\"])\n",
    "ymin = min(y_x[\"latitude\"])\n",
    "xmax = max(y_x[\"longitude\"])\n",
    "xmin = min(y_x[\"longitude\"])\n",
    "print(f\"ymax = {ymax}\")\n",
    "print(f\"ymin = {ymin}\")\n",
    "print(f\"xmax = {xmax}\")\n",
    "print(f\"xmin = {xmin}\")\n",
    "yrange = ymax - ymin\n",
    "xrange = xmax - xmin\n",
    "biggest_range_y = yrange > xrange\n",
    "norm_y = list(map(lambda y:round((y - ymin)/yrange, 6),y_x['latitude']))\n",
    "norm_x = list(map(lambda x:round((x - xmin)/yrange, 6),y_x['longitude']))\n",
    "y_x['latitude'] = norm_y\n",
    "y_x['longitude'] = norm_x\n",
    "print(y_x)\n",
    "fig, ax = plt.subplots(figsize=(12,12))\n",
    "sns.scatterplot(data = y_x, x='longitude', y='latitude', ax=ax)\n",
    "fig.show()\n"
   ]
  },
  {
   "cell_type": "code",
   "execution_count": 20,
   "metadata": {},
   "outputs": [],
   "source": [
    "f = px.line_mapbox(all_data[[\"latitude\", \"longitude\", \"DateTimeOriginal\"]], lat=\"latitude\", lon=\"longitude\", zoom=12, height=800)\n"
   ]
  },
  {
   "cell_type": "code",
   "execution_count": 21,
   "metadata": {},
   "outputs": [
    {
     "data": {
      "application/vnd.plotly.v1+json": {
       "config": {
        "plotlyServerURL": "https://plot.ly"
       },
       "data": [
        {
         "hovertemplate": "latitude=%{lat}<br>longitude=%{lon}<extra></extra>",
         "lat": [
          48.17446797,
          48.17446797,
          48.17446797,
          48.17446797,
          48.17446797,
          48.17446797,
          48.174436,
          48.174069,
          48.174069,
          48.17430197,
          48.17430197,
          48.17430197,
          48.17403889,
          48.174025,
          48.174025,
          48.17403611,
          48.17402778,
          48.16794722,
          48.16794722,
          48.17334997,
          48.17334997,
          48.17334997,
          48.17334997,
          48.17334997,
          48.163319,
          48.163319,
          48.161371,
          48.161371,
          48.161371,
          48.161371,
          48.15933611,
          48.15933611,
          48.15926667,
          48.13511797,
          48.15916397,
          48.15916397,
          48.15916397,
          48.157477,
          48.157477,
          48.157477,
          48.157477,
          48.157477,
          48.157477,
          48.157477,
          48.157477,
          48.157477,
          48.157477,
          48.157477,
          48.15659097,
          48.15659097,
          48.15659097,
          48.15659097,
          48.15659097,
          48.15659097,
          48.15668997,
          48.15668997,
          48.15668997,
          48.15668997,
          48.15668997,
          48.15668997,
          48.15668997,
          48.15668997,
          48.15623097,
          48.15623097,
          48.15623097,
          48.15623097,
          48.15623097,
          48.15623097,
          48.155523,
          48.155523,
          48.15511897,
          48.15511897,
          48.15511897,
          48.15511897,
          48.153035,
          48.153035,
          48.153035,
          48.153035,
          48.153035,
          48.153035,
          48.153035,
          48.14867797,
          48.14867797,
          48.14877222,
          48.14877222,
          48.14876667,
          48.14876389,
          48.14876389,
          48.14876389,
          48.14876389,
          48.14875833,
          48.14875278,
          48.14898333,
          48.14898889,
          48.14899722,
          48.14899722,
          48.149,
          48.15002222,
          48.15002222,
          48.150025,
          48.14908497,
          48.14908497,
          48.14908497,
          48.14968497,
          48.14968497,
          48.14968497,
          48.14968497,
          48.14968497,
          48.14968497,
          48.14968497,
          48.14991111,
          48.14990278,
          48.14989722,
          48.14989722,
          48.149883,
          48.149883,
          48.149883,
          48.149883,
          48.149883,
          48.149883,
          48.149883,
          48.149807,
          48.149197,
          48.149217,
          48.17421997,
          48.17421997
         ],
         "legendgroup": "",
         "line": {
          "color": "#636efa"
         },
         "lon": [
          24.89352997,
          24.89352997,
          24.89352997,
          24.89352997,
          24.89352997,
          24.89352997,
          24.89345497,
          24.893384,
          24.893384,
          24.893283,
          24.893283,
          24.893283,
          24.893525,
          24.89353056,
          24.89353056,
          24.89351944,
          24.89340556,
          24.90595,
          24.90595,
          24.89999097,
          24.89999097,
          24.89999097,
          24.89999097,
          24.89999097,
          24.90507397,
          24.90507397,
          24.90275497,
          24.90275497,
          24.90275497,
          24.90275497,
          24.90230833,
          24.90230833,
          24.9024,
          24.900943,
          24.899573,
          24.899573,
          24.899573,
          24.90034997,
          24.90034997,
          24.90034997,
          24.90034997,
          24.90034997,
          24.90034997,
          24.90034997,
          24.90034997,
          24.90034997,
          24.90034997,
          24.90034997,
          24.90080597,
          24.90080597,
          24.90080597,
          24.90080597,
          24.90080597,
          24.90080597,
          24.900786,
          24.900786,
          24.900786,
          24.900786,
          24.900786,
          24.900786,
          24.900786,
          24.900786,
          24.90094797,
          24.90094797,
          24.90094797,
          24.90094797,
          24.90094797,
          24.90094797,
          24.900169,
          24.900169,
          24.89988597,
          24.89988597,
          24.89988597,
          24.89988597,
          24.89903597,
          24.89903597,
          24.89903597,
          24.89903597,
          24.89903597,
          24.89903597,
          24.89903597,
          24.899564,
          24.899564,
          24.89960556,
          24.89960833,
          24.89960833,
          24.89961111,
          24.89961111,
          24.89961111,
          24.89961667,
          24.899625,
          24.89964167,
          24.89914722,
          24.89904722,
          24.89902222,
          24.89902222,
          24.89901944,
          24.89821667,
          24.89823333,
          24.89823333,
          24.899255,
          24.899255,
          24.899255,
          24.89678997,
          24.89678997,
          24.89678997,
          24.89678997,
          24.89678997,
          24.89678997,
          24.89678997,
          24.89717222,
          24.89719167,
          24.8972,
          24.8972,
          24.895199,
          24.895199,
          24.895199,
          24.895199,
          24.895199,
          24.895199,
          24.895199,
          24.887543,
          24.88713297,
          24.886863,
          24.893357,
          24.893357
         ],
         "mode": "lines",
         "name": "",
         "showlegend": false,
         "subplot": "mapbox",
         "type": "scattermapbox"
        }
       ],
       "layout": {
        "height": 800,
        "legend": {
         "tracegroupgap": 0
        },
        "mapbox": {
         "center": {
          "lat": 48.13511797,
          "lon": 24.886863
         },
         "domain": {
          "x": [
           0,
           1
          ],
          "y": [
           0,
           1
          ]
         },
         "style": "stamen-terrain",
         "zoom": 10
        },
        "margin": {
         "b": 0,
         "l": 0,
         "r": 0,
         "t": 0
        },
        "template": {
         "data": {
          "bar": [
           {
            "error_x": {
             "color": "#2a3f5f"
            },
            "error_y": {
             "color": "#2a3f5f"
            },
            "marker": {
             "line": {
              "color": "#E5ECF6",
              "width": 0.5
             },
             "pattern": {
              "fillmode": "overlay",
              "size": 10,
              "solidity": 0.2
             }
            },
            "type": "bar"
           }
          ],
          "barpolar": [
           {
            "marker": {
             "line": {
              "color": "#E5ECF6",
              "width": 0.5
             },
             "pattern": {
              "fillmode": "overlay",
              "size": 10,
              "solidity": 0.2
             }
            },
            "type": "barpolar"
           }
          ],
          "carpet": [
           {
            "aaxis": {
             "endlinecolor": "#2a3f5f",
             "gridcolor": "white",
             "linecolor": "white",
             "minorgridcolor": "white",
             "startlinecolor": "#2a3f5f"
            },
            "baxis": {
             "endlinecolor": "#2a3f5f",
             "gridcolor": "white",
             "linecolor": "white",
             "minorgridcolor": "white",
             "startlinecolor": "#2a3f5f"
            },
            "type": "carpet"
           }
          ],
          "choropleth": [
           {
            "colorbar": {
             "outlinewidth": 0,
             "ticks": ""
            },
            "type": "choropleth"
           }
          ],
          "contour": [
           {
            "colorbar": {
             "outlinewidth": 0,
             "ticks": ""
            },
            "colorscale": [
             [
              0,
              "#0d0887"
             ],
             [
              0.1111111111111111,
              "#46039f"
             ],
             [
              0.2222222222222222,
              "#7201a8"
             ],
             [
              0.3333333333333333,
              "#9c179e"
             ],
             [
              0.4444444444444444,
              "#bd3786"
             ],
             [
              0.5555555555555556,
              "#d8576b"
             ],
             [
              0.6666666666666666,
              "#ed7953"
             ],
             [
              0.7777777777777778,
              "#fb9f3a"
             ],
             [
              0.8888888888888888,
              "#fdca26"
             ],
             [
              1,
              "#f0f921"
             ]
            ],
            "type": "contour"
           }
          ],
          "contourcarpet": [
           {
            "colorbar": {
             "outlinewidth": 0,
             "ticks": ""
            },
            "type": "contourcarpet"
           }
          ],
          "heatmap": [
           {
            "colorbar": {
             "outlinewidth": 0,
             "ticks": ""
            },
            "colorscale": [
             [
              0,
              "#0d0887"
             ],
             [
              0.1111111111111111,
              "#46039f"
             ],
             [
              0.2222222222222222,
              "#7201a8"
             ],
             [
              0.3333333333333333,
              "#9c179e"
             ],
             [
              0.4444444444444444,
              "#bd3786"
             ],
             [
              0.5555555555555556,
              "#d8576b"
             ],
             [
              0.6666666666666666,
              "#ed7953"
             ],
             [
              0.7777777777777778,
              "#fb9f3a"
             ],
             [
              0.8888888888888888,
              "#fdca26"
             ],
             [
              1,
              "#f0f921"
             ]
            ],
            "type": "heatmap"
           }
          ],
          "heatmapgl": [
           {
            "colorbar": {
             "outlinewidth": 0,
             "ticks": ""
            },
            "colorscale": [
             [
              0,
              "#0d0887"
             ],
             [
              0.1111111111111111,
              "#46039f"
             ],
             [
              0.2222222222222222,
              "#7201a8"
             ],
             [
              0.3333333333333333,
              "#9c179e"
             ],
             [
              0.4444444444444444,
              "#bd3786"
             ],
             [
              0.5555555555555556,
              "#d8576b"
             ],
             [
              0.6666666666666666,
              "#ed7953"
             ],
             [
              0.7777777777777778,
              "#fb9f3a"
             ],
             [
              0.8888888888888888,
              "#fdca26"
             ],
             [
              1,
              "#f0f921"
             ]
            ],
            "type": "heatmapgl"
           }
          ],
          "histogram": [
           {
            "marker": {
             "pattern": {
              "fillmode": "overlay",
              "size": 10,
              "solidity": 0.2
             }
            },
            "type": "histogram"
           }
          ],
          "histogram2d": [
           {
            "colorbar": {
             "outlinewidth": 0,
             "ticks": ""
            },
            "colorscale": [
             [
              0,
              "#0d0887"
             ],
             [
              0.1111111111111111,
              "#46039f"
             ],
             [
              0.2222222222222222,
              "#7201a8"
             ],
             [
              0.3333333333333333,
              "#9c179e"
             ],
             [
              0.4444444444444444,
              "#bd3786"
             ],
             [
              0.5555555555555556,
              "#d8576b"
             ],
             [
              0.6666666666666666,
              "#ed7953"
             ],
             [
              0.7777777777777778,
              "#fb9f3a"
             ],
             [
              0.8888888888888888,
              "#fdca26"
             ],
             [
              1,
              "#f0f921"
             ]
            ],
            "type": "histogram2d"
           }
          ],
          "histogram2dcontour": [
           {
            "colorbar": {
             "outlinewidth": 0,
             "ticks": ""
            },
            "colorscale": [
             [
              0,
              "#0d0887"
             ],
             [
              0.1111111111111111,
              "#46039f"
             ],
             [
              0.2222222222222222,
              "#7201a8"
             ],
             [
              0.3333333333333333,
              "#9c179e"
             ],
             [
              0.4444444444444444,
              "#bd3786"
             ],
             [
              0.5555555555555556,
              "#d8576b"
             ],
             [
              0.6666666666666666,
              "#ed7953"
             ],
             [
              0.7777777777777778,
              "#fb9f3a"
             ],
             [
              0.8888888888888888,
              "#fdca26"
             ],
             [
              1,
              "#f0f921"
             ]
            ],
            "type": "histogram2dcontour"
           }
          ],
          "mesh3d": [
           {
            "colorbar": {
             "outlinewidth": 0,
             "ticks": ""
            },
            "type": "mesh3d"
           }
          ],
          "parcoords": [
           {
            "line": {
             "colorbar": {
              "outlinewidth": 0,
              "ticks": ""
             }
            },
            "type": "parcoords"
           }
          ],
          "pie": [
           {
            "automargin": true,
            "type": "pie"
           }
          ],
          "scatter": [
           {
            "fillpattern": {
             "fillmode": "overlay",
             "size": 10,
             "solidity": 0.2
            },
            "type": "scatter"
           }
          ],
          "scatter3d": [
           {
            "line": {
             "colorbar": {
              "outlinewidth": 0,
              "ticks": ""
             }
            },
            "marker": {
             "colorbar": {
              "outlinewidth": 0,
              "ticks": ""
             }
            },
            "type": "scatter3d"
           }
          ],
          "scattercarpet": [
           {
            "marker": {
             "colorbar": {
              "outlinewidth": 0,
              "ticks": ""
             }
            },
            "type": "scattercarpet"
           }
          ],
          "scattergeo": [
           {
            "marker": {
             "colorbar": {
              "outlinewidth": 0,
              "ticks": ""
             }
            },
            "type": "scattergeo"
           }
          ],
          "scattergl": [
           {
            "marker": {
             "colorbar": {
              "outlinewidth": 0,
              "ticks": ""
             }
            },
            "type": "scattergl"
           }
          ],
          "scattermapbox": [
           {
            "marker": {
             "colorbar": {
              "outlinewidth": 0,
              "ticks": ""
             }
            },
            "type": "scattermapbox"
           }
          ],
          "scatterpolar": [
           {
            "marker": {
             "colorbar": {
              "outlinewidth": 0,
              "ticks": ""
             }
            },
            "type": "scatterpolar"
           }
          ],
          "scatterpolargl": [
           {
            "marker": {
             "colorbar": {
              "outlinewidth": 0,
              "ticks": ""
             }
            },
            "type": "scatterpolargl"
           }
          ],
          "scatterternary": [
           {
            "marker": {
             "colorbar": {
              "outlinewidth": 0,
              "ticks": ""
             }
            },
            "type": "scatterternary"
           }
          ],
          "surface": [
           {
            "colorbar": {
             "outlinewidth": 0,
             "ticks": ""
            },
            "colorscale": [
             [
              0,
              "#0d0887"
             ],
             [
              0.1111111111111111,
              "#46039f"
             ],
             [
              0.2222222222222222,
              "#7201a8"
             ],
             [
              0.3333333333333333,
              "#9c179e"
             ],
             [
              0.4444444444444444,
              "#bd3786"
             ],
             [
              0.5555555555555556,
              "#d8576b"
             ],
             [
              0.6666666666666666,
              "#ed7953"
             ],
             [
              0.7777777777777778,
              "#fb9f3a"
             ],
             [
              0.8888888888888888,
              "#fdca26"
             ],
             [
              1,
              "#f0f921"
             ]
            ],
            "type": "surface"
           }
          ],
          "table": [
           {
            "cells": {
             "fill": {
              "color": "#EBF0F8"
             },
             "line": {
              "color": "white"
             }
            },
            "header": {
             "fill": {
              "color": "#C8D4E3"
             },
             "line": {
              "color": "white"
             }
            },
            "type": "table"
           }
          ]
         },
         "layout": {
          "annotationdefaults": {
           "arrowcolor": "#2a3f5f",
           "arrowhead": 0,
           "arrowwidth": 1
          },
          "autotypenumbers": "strict",
          "coloraxis": {
           "colorbar": {
            "outlinewidth": 0,
            "ticks": ""
           }
          },
          "colorscale": {
           "diverging": [
            [
             0,
             "#8e0152"
            ],
            [
             0.1,
             "#c51b7d"
            ],
            [
             0.2,
             "#de77ae"
            ],
            [
             0.3,
             "#f1b6da"
            ],
            [
             0.4,
             "#fde0ef"
            ],
            [
             0.5,
             "#f7f7f7"
            ],
            [
             0.6,
             "#e6f5d0"
            ],
            [
             0.7,
             "#b8e186"
            ],
            [
             0.8,
             "#7fbc41"
            ],
            [
             0.9,
             "#4d9221"
            ],
            [
             1,
             "#276419"
            ]
           ],
           "sequential": [
            [
             0,
             "#0d0887"
            ],
            [
             0.1111111111111111,
             "#46039f"
            ],
            [
             0.2222222222222222,
             "#7201a8"
            ],
            [
             0.3333333333333333,
             "#9c179e"
            ],
            [
             0.4444444444444444,
             "#bd3786"
            ],
            [
             0.5555555555555556,
             "#d8576b"
            ],
            [
             0.6666666666666666,
             "#ed7953"
            ],
            [
             0.7777777777777778,
             "#fb9f3a"
            ],
            [
             0.8888888888888888,
             "#fdca26"
            ],
            [
             1,
             "#f0f921"
            ]
           ],
           "sequentialminus": [
            [
             0,
             "#0d0887"
            ],
            [
             0.1111111111111111,
             "#46039f"
            ],
            [
             0.2222222222222222,
             "#7201a8"
            ],
            [
             0.3333333333333333,
             "#9c179e"
            ],
            [
             0.4444444444444444,
             "#bd3786"
            ],
            [
             0.5555555555555556,
             "#d8576b"
            ],
            [
             0.6666666666666666,
             "#ed7953"
            ],
            [
             0.7777777777777778,
             "#fb9f3a"
            ],
            [
             0.8888888888888888,
             "#fdca26"
            ],
            [
             1,
             "#f0f921"
            ]
           ]
          },
          "colorway": [
           "#636efa",
           "#EF553B",
           "#00cc96",
           "#ab63fa",
           "#FFA15A",
           "#19d3f3",
           "#FF6692",
           "#B6E880",
           "#FF97FF",
           "#FECB52"
          ],
          "font": {
           "color": "#2a3f5f"
          },
          "geo": {
           "bgcolor": "white",
           "lakecolor": "white",
           "landcolor": "#E5ECF6",
           "showlakes": true,
           "showland": true,
           "subunitcolor": "white"
          },
          "hoverlabel": {
           "align": "left"
          },
          "hovermode": "closest",
          "mapbox": {
           "style": "light"
          },
          "paper_bgcolor": "white",
          "plot_bgcolor": "#E5ECF6",
          "polar": {
           "angularaxis": {
            "gridcolor": "white",
            "linecolor": "white",
            "ticks": ""
           },
           "bgcolor": "#E5ECF6",
           "radialaxis": {
            "gridcolor": "white",
            "linecolor": "white",
            "ticks": ""
           }
          },
          "scene": {
           "xaxis": {
            "backgroundcolor": "#E5ECF6",
            "gridcolor": "white",
            "gridwidth": 2,
            "linecolor": "white",
            "showbackground": true,
            "ticks": "",
            "zerolinecolor": "white"
           },
           "yaxis": {
            "backgroundcolor": "#E5ECF6",
            "gridcolor": "white",
            "gridwidth": 2,
            "linecolor": "white",
            "showbackground": true,
            "ticks": "",
            "zerolinecolor": "white"
           },
           "zaxis": {
            "backgroundcolor": "#E5ECF6",
            "gridcolor": "white",
            "gridwidth": 2,
            "linecolor": "white",
            "showbackground": true,
            "ticks": "",
            "zerolinecolor": "white"
           }
          },
          "shapedefaults": {
           "line": {
            "color": "#2a3f5f"
           }
          },
          "ternary": {
           "aaxis": {
            "gridcolor": "white",
            "linecolor": "white",
            "ticks": ""
           },
           "baxis": {
            "gridcolor": "white",
            "linecolor": "white",
            "ticks": ""
           },
           "bgcolor": "#E5ECF6",
           "caxis": {
            "gridcolor": "white",
            "linecolor": "white",
            "ticks": ""
           }
          },
          "title": {
           "x": 0.05
          },
          "xaxis": {
           "automargin": true,
           "gridcolor": "white",
           "linecolor": "white",
           "ticks": "",
           "title": {
            "standoff": 15
           },
           "zerolinecolor": "white",
           "zerolinewidth": 2
          },
          "yaxis": {
           "automargin": true,
           "gridcolor": "white",
           "linecolor": "white",
           "ticks": "",
           "title": {
            "standoff": 15
           },
           "zerolinecolor": "white",
           "zerolinewidth": 2
          }
         }
        }
       }
      }
     },
     "metadata": {},
     "output_type": "display_data"
    }
   ],
   "source": [
    "f.update_layout(mapbox_style=\"stamen-terrain\", mapbox_zoom=10, mapbox_center_lat = ymin,mapbox_center_lon=xmin,\n",
    "    margin={\"r\":0,\"t\":0,\"l\":0,\"b\":0})"
   ]
  },
  {
   "cell_type": "code",
   "execution_count": null,
   "metadata": {},
   "outputs": [],
   "source": []
  }
 ],
 "metadata": {
  "kernelspec": {
   "display_name": "Python 3.8.10 ('venv': venv)",
   "language": "python",
   "name": "python3"
  },
  "language_info": {
   "codemirror_mode": {
    "name": "ipython",
    "version": 3
   },
   "file_extension": ".py",
   "mimetype": "text/x-python",
   "name": "python",
   "nbconvert_exporter": "python",
   "pygments_lexer": "ipython3",
   "version": "3.8.10"
  },
  "orig_nbformat": 4,
  "vscode": {
   "interpreter": {
    "hash": "a461d15592a0275e2665029e249766c7717f3cadc4551bd90a0b7aac484d76cf"
   }
  }
 },
 "nbformat": 4,
 "nbformat_minor": 2
}
